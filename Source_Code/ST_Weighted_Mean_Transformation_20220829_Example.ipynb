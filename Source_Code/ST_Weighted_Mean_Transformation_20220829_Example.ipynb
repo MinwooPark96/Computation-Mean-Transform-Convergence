{
 "cells": [
  {
   "cell_type": "code",
   "execution_count": 3,
   "id": "79ef7e45",
   "metadata": {
    "ExecuteTime": {
     "end_time": "2022-10-26T01:36:29.513626Z",
     "start_time": "2022-10-26T01:36:29.507810Z"
    }
   },
   "outputs": [
    {
     "name": "stdout",
     "output_type": "stream",
     "text": [
      "Latest update date is 2022/8/31\n",
      "\n",
      "numpy version is 1.23.1\n",
      "matplotlib version is 3.5.1\n"
     ]
    }
   ],
   "source": [
    "print(\"Latest update date is 2022/8/31\",end=\"\\n\\n\")\n",
    "#Run me\n",
    "\n",
    "import numpy as np\n",
    "import matplotlib.pyplot as plt\n",
    "import matplotlib\n",
    "import copy\n",
    "\n",
    "print(\"numpy version is\",np.__version__)\n",
    "print(\"matplotlib version is\",matplotlib.__version__)"
   ]
  },
  {
   "cell_type": "code",
   "execution_count": 14,
   "id": "61c6d4ab",
   "metadata": {
    "ExecuteTime": {
     "end_time": "2022-10-26T06:28:52.338027Z",
     "start_time": "2022-10-26T06:28:52.310085Z"
    }
   },
   "outputs": [],
   "source": [
    "# st weighted Transform\n",
    "class Transformation():\n",
    "    \n",
    "    def __init__(self):\n",
    "        \n",
    "        self.color_dict={0:\"magenta\",1:\"dimgray\",2:\"cyan\"}\n",
    "        self.type_dict={0:\"st_weighted\"}\n",
    "        self.type_dict_2= {v: k for k, v in self.type_dict.items()}\n",
    "\n",
    "    def Epoch(self,T): # one iteration \n",
    "        \n",
    "        w,sigma,v_h=np.linalg.svd(T)    \n",
    "        sigma=np.diag(sigma) \n",
    "        v=v_h.H\n",
    "        \n",
    "        sigma_sq=np.sqrt(sigma)\n",
    "        sigma_hat=v@sigma_sq@v_h \n",
    "        sigma_pinv=np.linalg.pinv(sigma)\n",
    "        #u 확인\n",
    "        if self.check_u==1:\n",
    "            u=w@sigma@sigma_pinv@v_h\n",
    "        else:\n",
    "            u=w@v_h\n",
    "        \n",
    "        T_abs=v@sigma@v_h\n",
    "        T_duggal=T_abs@u\n",
    "        T_st=(self.s*T+self.t*T_duggal)\n",
    "        \n",
    "        \n",
    "        return T_st #one epoch output\n",
    "             \n",
    "    def Transform(self,T,n=1,s=1/2,t=1/2,check_u=1): # n : iteration count \n",
    "        \n",
    "        self.s=s\n",
    "        self.t=t\n",
    "        self.T=T\n",
    "        self.n=n\n",
    "        self.check_u=check_u\n",
    "        \n",
    "        before=copy.deepcopy(self.T)\n",
    "        \n",
    "        self.st=[T]\n",
    "            \n",
    "        for i in range(self.n):\n",
    "                \n",
    "            after=self.Epoch(before)\n",
    "            self.st.append(after)\n",
    "            before=after\n",
    "            \n",
    "    def Normal_calculator(self): \n",
    "        self.norm_info=[] #list of Frobenius norm of each transformation output matrix\n",
    "        self.normal_info=[] #list of Frobenius norm of each transformation output matrix\n",
    "        \n",
    "        for j in self.st:\n",
    "            norm=np.linalg.norm(j)\n",
    "            distance_matrix=np.abs(j@j.H-j.H@j)\n",
    "            distance=np.linalg.norm(distance_matrix)\n",
    "            self.normal_info.append(distance)\n",
    "            self.norm_info.append(norm)\n",
    "    \n",
    "    \n",
    "    def Normal_plot(self): # plot that dipicts Frobenius norm of T(T^*)-(T^*)T\n",
    "\n",
    "        self.total_fig, self.total_ax=plt.subplots(1,1)\n",
    "        \n",
    "        self.total_ax.plot(range(self.n+1),self.normal_info,color=\"b\",alpha=0.5,marker=\"o\",linestyle=\"dashed\")\n",
    "        self.total_ax.set_title(\"Normal Characteristic\")\n",
    "        \n",
    "        self.total_fig.set_size_inches((16,4))\n",
    "        self.total_ax.grid(axis='x', color='0.95',linestyle=\"--\")\n",
    "        \n",
    "    def Process(self,k,digit=4):\n",
    "        \n",
    "        print(\"===============<START>===============\\n\")\n",
    "        \n",
    "        M=self.st[k-1]\n",
    "        print(f\"T_hat({k-1})\\n\",np.round(M,digit),\"\\n\")\n",
    "        \n",
    "        w,sigma,v_h=np.linalg.svd(M)   \n",
    "        sigma=np.diag(sigma) \n",
    "        v=v_h.H\n",
    "        \n",
    "        print(\"W\\n\",np.round(w,digit),\"\\n\")\n",
    "        print(\"Sigma\\n\",np.round(sigma,digit),\"\\n\")\n",
    "        print(\"V_h\\n\",np.round(v_h,digit),\"\\n\")\n",
    "        print(\"W\\Sigma V^*\\n\",np.round(w@sigma@v_h,digit),\"\\n\")\n",
    "        print(\"WV^*\\n\",np.round(w@v_h,digit),\"\\n\")\n",
    "        print(\"V\\n\",v,\"\\n\")\n",
    "        \n",
    "        sigma_sq=np.sqrt(sigma)\n",
    "        sigma_hat=v@sigma_sq@v_h\n",
    "        sigma_pinv=np.linalg.pinv(sigma)\n",
    "        if self.check_u==1:\n",
    "            u=w@sigma@sigma_pinv@v_h\n",
    "            print(\"U=W\\Sigma\\Sigma_pinv V^*\\n\",np.round(u,digit),\"\\n\")\n",
    "        else:    \n",
    "            u=w@v_h\n",
    "            print(\"U=WV^*\\n\",np.round(u,digit),\"\\n\")\n",
    "        \n",
    "        \n",
    "        T_abs=v@sigma@v_h\n",
    "        \n",
    "        print(\"|T|\\n\",np.round(T_abs,digit),\"\\n\")\n",
    "        \n",
    "        print(\"U|T|\\n\",np.round(u@T_abs,digit),\"\\n\")\n",
    "\n",
    "     \n",
    "        T_duggal=T_abs@u\n",
    "        print(\"T_duggal\\n\",np.round(T_duggal,digit),\"\\n\")\n",
    "        \n",
    "        T_st=(self.s*M+self.t*T_abs@u)\n",
    "            \n",
    "        print(\"|T|U\",np.round(T_abs@u,digit),\"\\n\")\n",
    "        print(f\"T_hat({k})\\n\",np.round(T_st,digit),\"------->(a)\\n\")\n",
    "        \n",
    "        \n",
    "        print(\"===============<END>===============\\n\")\n",
    "        print(\"result from our class  \\n\",np.round(self.st[k],digit),\"------->(b)\")\n",
    "        print(\"If a!=b, Error.. ; If that happens, please email us\")\n",
    "        print(\"e-mail : alsdn0110@snu.ac.kr\")"
   ]
  },
  {
   "cell_type": "markdown",
   "id": "6e6d7611",
   "metadata": {},
   "source": [
    "### Module\n",
    "\n",
    "---\n",
    "\n",
    "#### 1. `Transformation(T,n,s,t)` : iterate n times for transformation.( $T_{st}=s T+t |T|U$ ).\n",
    "\n",
    "- Parameters\n",
    "    \n",
    "    `T` : matrix (`numpy.Matrix`)\n",
    "    \n",
    "    `n` : number of iteration\n",
    "    \n",
    "    `s,t` : Weight (default : Mean Transform where s=t=$\\frac{1}{2}$)\n",
    "\n",
    "\n",
    "- Return\n",
    "\n",
    "   The transformed Matrices are stored in list : `Transfomation.st`\n",
    "     \n",
    "#### 2. `Transfomation.Normal_calculator()` : Norm and Normality Calculation Function.\n",
    "\n",
    "where norm is *Frobenius norm*.\n",
    "\n",
    "- `Transfomation.norm_info` : A list in which the norm of the Transformation is stored.\n",
    "   \n",
    "- `Transfomation.normal_info` : A list in which normal characteristic - $|T^{*}T-TT^{*}| - $ is stored.\n",
    "\n",
    "---\n",
    "\n",
    "#### 3.` Transformation.Process(k)` : You can check the calculation process of a specific part.\n",
    "    \n",
    "- Parameters\n",
    "\n",
    "   `k` : purpose number of repetitions ($1<=k<=n$)\n",
    "\n",
    "\n",
    "- Return\n",
    "\n",
    "    Yield proceess transforms From $T^{(k-1)}$ to $T^{(k)}$\n",
    "\n",
    "---\n",
    "\n",
    "#### 4. `Transformation.Plot()` : plotting of normal characteristic.\n",
    "   \n",
    "- axis X : number of iteration(`n`)\n",
    "   \n",
    "- axis Y : normal characteristic for transformations.\n",
    "\n",
    "---\n",
    "*Min Woo Park : Graduate School of Data Science, Seoul National University* - alsdn0110@snu.ac.kr \n",
    "\n",
    "*Ji Eun Lee : Department of Mathematics and Statistics, Sejong university* - jieunlee@sejong.ac.kr"
   ]
  },
  {
   "cell_type": "markdown",
   "id": "9d697a82",
   "metadata": {},
   "source": [
    "### Examples In Paper\n",
    "\n",
    "---\n"
   ]
  },
  {
   "cell_type": "code",
   "execution_count": 15,
   "id": "53dc6f72",
   "metadata": {
    "ExecuteTime": {
     "end_time": "2022-10-26T06:28:54.604039Z",
     "start_time": "2022-10-26T06:28:54.514954Z"
    },
    "scrolled": true
   },
   "outputs": [
    {
     "name": "stdout",
     "output_type": "stream",
     "text": [
      "===============<START>===============\n",
      "\n",
      "T_hat(0)\n",
      " [[0 1]\n",
      " [0 0]] \n",
      "\n",
      "W\n",
      " [[1. 0.]\n",
      " [0. 1.]] \n",
      "\n",
      "Sigma\n",
      " [[1. 0.]\n",
      " [0. 0.]] \n",
      "\n",
      "V_h\n",
      " [[ 0.  1.]\n",
      " [-1.  0.]] \n",
      "\n",
      "W\\Sigma V^*\n",
      " [[0. 1.]\n",
      " [0. 0.]] \n",
      "\n",
      "WV^*\n",
      " [[ 0.  1.]\n",
      " [-1.  0.]] \n",
      "\n",
      "V\n",
      " [[ 0. -1.]\n",
      " [ 1.  0.]] \n",
      "\n",
      "U=W\\Sigma\\Sigma_pinv V^*\n",
      " [[0. 1.]\n",
      " [0. 0.]] \n",
      "\n",
      "|T|\n",
      " [[0. 0.]\n",
      " [0. 1.]] \n",
      "\n",
      "U|T|\n",
      " [[0. 1.]\n",
      " [0. 0.]] \n",
      "\n",
      "T_duggal\n",
      " [[0. 0.]\n",
      " [0. 0.]] \n",
      "\n",
      "|T|U [[0. 0.]\n",
      " [0. 0.]] \n",
      "\n",
      "T_hat(1)\n",
      " [[0.  0.5]\n",
      " [0.  0. ]] ------->(a)\n",
      "\n",
      "===============<END>===============\n",
      "\n",
      "result from our class  \n",
      " [[0.  0.5]\n",
      " [0.  0. ]] ------->(b)\n",
      "If a!=b, Error.. ; If that happens, please email us\n",
      "e-mail : alsdn0110@snu.ac.kr\n"
     ]
    },
    {
     "data": {
      "image/png": "[encoded data removed]",
      "text/plain": [
       "<Figure size 1600x400 with 1 Axes>"
      ]
     },
     "metadata": {},
     "output_type": "display_data"
    }
   ],
   "source": [
    "#example 2.4\n",
    "\n",
    "T = np.matrix([[0,1,0,0]]).reshape(2,2)\n",
    "\n",
    "Ex_1=Transformation() \n",
    "\n",
    "Ex_1.Transform(T,n=10,s=0.5,t=0.5) # 행렬, 반복횟수, s,t\n",
    "\n",
    "Ex_1.Normal_calculator() \n",
    "\n",
    "Ex_1.Normal_plot() \n",
    "\n",
    "#Ex_1.st\n",
    "\n",
    "#Ex_1.norm_info\n",
    "\n",
    "#Ex_1.normal_info[-1]\n",
    "\n",
    "Ex_1.Process(k=1)\n",
    "\n",
    "#0829 comment : U값 확인\n",
    "\n"
   ]
  },
  {
   "cell_type": "code",
   "execution_count": 3,
   "id": "23984de8",
   "metadata": {
    "ExecuteTime": {
     "end_time": "2022-09-06T06:49:57.096764Z",
     "start_time": "2022-09-06T06:49:56.962197Z"
    },
    "scrolled": true
   },
   "outputs": [
    {
     "name": "stdout",
     "output_type": "stream",
     "text": [
      "Input\n",
      " [[0.  0.5]\n",
      " [0.  1. ]] \n",
      "\n",
      "W\n",
      " [[ 0.4472 -0.8944]\n",
      " [ 0.8944  0.4472]] \n",
      "\n",
      "Sigma\n",
      " [[1.118 0.   ]\n",
      " [0.    0.   ]] \n",
      "\n",
      "V_h\n",
      " [[ 0.  1.]\n",
      " [-1.  0.]] \n",
      "\n",
      "W\\Sigma V^*\n",
      " [[0.  0.5]\n",
      " [0.  1. ]] \n",
      "\n",
      "WV^*\n",
      " [[ 0.8944  0.4472]\n",
      " [-0.4472  0.8944]] \n",
      "\n",
      "V\n",
      " [[ 0. -1.]\n",
      " [ 1.  0.]] \n",
      "\n",
      "U=W\\Sigma\\Sigma_pinv V^*\n",
      " [[0.     0.4472]\n",
      " [0.     0.8944]] \n",
      "\n",
      "|T|\n",
      " [[0.    0.   ]\n",
      " [0.    1.118]] \n",
      "\n",
      "U|T|\n",
      " [[0.  0.5]\n",
      " [0.  1. ]] \n",
      "\n",
      "T_duggal\n",
      " [[0. 0.]\n",
      " [0. 1.]] \n",
      "\n",
      "|T|U [[0. 0.]\n",
      " [0. 1.]] \n",
      "\n",
      "T_st(a)\n",
      " [[0.   0.25]\n",
      " [0.   1.  ]] \n",
      "\n",
      "result from our class(b)\n",
      " [[0.   0.25]\n",
      " [0.   1.  ]]\n",
      "If a!=b, Error.. ; If that happens, please email us\n",
      "e-mail : alsdn0110@snu.ac.kr\n"
     ]
    },
    {
     "data": {
      "image/png": "[encoded data removed]",
      "text/plain": [
       "<Figure size 1152x288 with 1 Axes>"
      ]
     },
     "metadata": {
      "needs_background": "light"
     },
     "output_type": "display_data"
    }
   ],
   "source": [
    "#example 2.5\n",
    "\n",
    "T = np.matrix([[0,1,0,1]]).reshape(2,2)\n",
    "\n",
    "Ex_2=Transformation() \n",
    "\n",
    "Ex_2.Transform(T,n=10,s=0.5,t=0.5) # 행렬, 반복횟수, s,t\n",
    "\n",
    "Ex_2.Normal_calculator() \n",
    "\n",
    "Ex_2.Normal_plot() \n",
    "\n",
    "Ex_2.Process(k=2)\n",
    "\n",
    "#0829 comment : U, |T| 값 확인\n",
    "\n",
    "\n"
   ]
  },
  {
   "cell_type": "markdown",
   "id": "41b334af",
   "metadata": {},
   "source": [
    "5 페이지 we have... 부분 기호 정리 요망"
   ]
  },
  {
   "cell_type": "code",
   "execution_count": 38,
   "id": "2031817a",
   "metadata": {
    "ExecuteTime": {
     "end_time": "2022-09-12T12:43:25.690717Z",
     "start_time": "2022-09-12T12:43:25.676091Z"
    }
   },
   "outputs": [
    {
     "name": "stdout",
     "output_type": "stream",
     "text": [
      "Input\n",
      " [[1 2]\n",
      " [3 4]] \n",
      "\n",
      "W\n",
      " [[-0.4046 -0.9145]\n",
      " [-0.9145  0.4046]] \n",
      "\n",
      "Sigma\n",
      " [[5.465 0.   ]\n",
      " [0.    0.366]] \n",
      "\n",
      "V_h\n",
      " [[-0.576  -0.8174]\n",
      " [ 0.8174 -0.576 ]] \n",
      "\n",
      "W\\Sigma V^*\n",
      " [[1. 2.]\n",
      " [3. 4.]] \n",
      "\n",
      "WV^*\n",
      " [[-0.5145  0.8575]\n",
      " [ 0.8575  0.5145]] \n",
      "\n",
      "V\n",
      " [[-0.57604844  0.81741556]\n",
      " [-0.81741556 -0.57604844]] \n",
      "\n",
      "U=W\\Sigma\\Sigma_pinv V^*\n",
      " [[-0.5145  0.8575]\n",
      " [ 0.8575  0.5145]] \n",
      "\n",
      "|T|\n",
      " [[2.058 2.401]\n",
      " [2.401 3.773]] \n",
      "\n",
      "U|T|\n",
      " [[1. 2.]\n",
      " [3. 4.]] \n",
      "\n",
      "T_duggal\n",
      " [[1. 3.]\n",
      " [2. 4.]] \n",
      "\n",
      "|T|U [[1. 3.]\n",
      " [2. 4.]] \n",
      "\n",
      "T_st(a)\n",
      " [[1.  2.5]\n",
      " [2.5 4. ]] \n",
      "\n",
      "result from our class(b)\n",
      " [[1.  2.5]\n",
      " [2.5 4. ]]\n",
      "If a!=b, Error.. ; If that happens, please email us\n",
      "e-mail : alsdn0110@snu.ac.kr\n"
     ]
    },
    {
     "data": {
      "text/plain": [
       "[8.246211251235321,\n",
       " 6.217248937900877e-15,\n",
       " 4.440892098500626e-15,\n",
       " 3.076740298213702e-15,\n",
       " 0.0,\n",
       " 5.102196573270515e-15,\n",
       " 0.0,\n",
       " 4.699798436761765e-15,\n",
       " 0.0,\n",
       " 0.0,\n",
       " 0.0]"
      ]
     },
     "execution_count": 38,
     "metadata": {},
     "output_type": "execute_result"
    }
   ],
   "source": [
    "#proposition 2.11\n",
    "#우리의 polar decomposition 정의에서는 조금 다르다.\n",
    "\n",
    "T = np.matrix([[1,2,3,4]]).reshape(2,2)\n",
    "\n",
    "Ex_2=Transformation() \n",
    "\n",
    "Ex_2.Transform(T,n=10,s=0.5,t=0.5,check_u=1) # 행렬, 반복횟수, s,t\n",
    "\n",
    "Ex_2.Normal_calculator() \n",
    "\n",
    "#Ex_2.Normal_plot() \n",
    "\n",
    "Ex_2.Process(k=1)\n",
    "\n",
    "#0829 comment : U, |T| 값 확인\n",
    "Ex_2.normal_info\n",
    "\n"
   ]
  },
  {
   "cell_type": "code",
   "execution_count": 52,
   "id": "77a2d760",
   "metadata": {
    "ExecuteTime": {
     "end_time": "2022-09-12T12:57:19.536250Z",
     "start_time": "2022-09-12T12:57:19.527231Z"
    }
   },
   "outputs": [
    {
     "data": {
      "text/plain": [
       "1.0"
      ]
     },
     "execution_count": 52,
     "metadata": {},
     "output_type": "execute_result"
    }
   ],
   "source": [
    "T=np.matrix([[1,2],[3,4]])\n",
    "w,s,v_t=np.linalg.svd(T)\n",
    "s=np.diag(s)\n",
    "v=v_t.H\n",
    "a=w@s@s@w.H-v@s@s@v.H\n",
    "\n",
    "\n",
    "#x=1/2*(v@s@v_t@w@s@np.linalg.pinv(s)@v_t+T)\n",
    "\n",
    "#np.linalg.det(x@x.H-x.H@x)"
   ]
  },
  {
   "cell_type": "markdown",
   "id": "f3998ae2",
   "metadata": {},
   "source": [
    "## 10/10 랜덤한 숫자에 대하여 st mean tf 가 정규성을 만족할까?"
   ]
  },
  {
   "cell_type": "code",
   "execution_count": 9,
   "id": "9fe63b48",
   "metadata": {
    "ExecuteTime": {
     "end_time": "2022-10-13T01:39:45.959494Z",
     "start_time": "2022-10-13T01:39:45.849209Z"
    },
    "scrolled": false
   },
   "outputs": [
    {
     "name": "stdout",
     "output_type": "stream",
     "text": [
      "[10.367459978972517, 170.98041732910593, -236.00676139962638, 521.7090378314491]\n",
      "break at  1  by  2.949632099894761e-05\n"
     ]
    },
    {
     "data": {
      "image/png": "[encoded data removed]",
      "text/plain": [
       "<Figure size 1600x400 with 1 Axes>"
      ]
     },
     "metadata": {},
     "output_type": "display_data"
    }
   ],
   "source": [
    "import random\n",
    "\n",
    "thres_hold=1e-10\n",
    "\n",
    "for cycle in range(100):\n",
    "\n",
    "    sample=[]\n",
    "    for _ in range(4):\n",
    "        p=random.random() # 0~1 랜덤하게 뽑고\n",
    "        logit=np.log(p/(1-p)) # 로그오즈 -> -inf ~ inf \n",
    "        \n",
    "        n=random.randint(1,100) # 스케일더크게\n",
    "        sample.append(logit*n)\n",
    "    \n",
    "    T = np.matrix([[sample[0],sample[1],sample[2],sample[3]]]).reshape(2,2)\n",
    "\n",
    "    Ex=Transformation() \n",
    "\n",
    "    Ex.Transform(T,n=100,s=0.5,t=0.5,check_u=1) # 행렬, 반복횟수, s,t\n",
    "\n",
    "    Ex.Normal_calculator()\n",
    "    \n",
    "    if thres_hold<Ex.normal_info[-1]:\n",
    "        print(sample)\n",
    "#         print(Ex.normal_info)\n",
    "        print('break at ',cycle,\" by \",Ex.normal_info[-1])\n",
    "        Ex.Normal_plot()\n",
    "        break\n",
    "    \n",
    "    \n",
    "\n",
    "\n"
   ]
  },
  {
   "cell_type": "markdown",
   "id": "45321c8d",
   "metadata": {},
   "source": [
    "## 포인트에 오버피팅하는 연속함수를 만들고 그 함수가 감소함수임을 보이자. 감소함수 + 바운디드 "
   ]
  }
 ],
 "metadata": {
  "kernelspec": {
   "display_name": "Python 3 (ipykernel)",
   "language": "python",
   "name": "python3"
  },
  "language_info": {
   "codemirror_mode": {
    "name": "ipython",
    "version": 3
   },
   "file_extension": ".py",
   "mimetype": "text/x-python",
   "name": "python",
   "nbconvert_exporter": "python",
   "pygments_lexer": "ipython3",
   "version": "3.9.12"
  },
  "varInspector": {
   "cols": {
    "lenName": 16,
    "lenType": 16,
    "lenVar": 40
   },
   "kernels_config": {
    "python": {
     "delete_cmd_postfix": "",
     "delete_cmd_prefix": "del ",
     "library": "var_list.py",
     "varRefreshCmd": "print(var_dic_list())"
    },
    "r": {
     "delete_cmd_postfix": ") ",
     "delete_cmd_prefix": "rm(",
     "library": "var_list.r",
     "varRefreshCmd": "cat(var_dic_list()) "
    }
   },
   "types_to_exclude": [
    "module",
    "function",
    "builtin_function_or_method",
    "instance",
    "_Feature"
   ],
   "window_display": false
  }
 },
 "nbformat": 4,
 "nbformat_minor": 5
}
