{
 "cells": [
  {
   "cell_type": "code",
   "execution_count": 3,
   "id": "79ef7e45",
   "metadata": {
    "ExecuteTime": {
     "end_time": "2022-06-14T13:30:12.292201Z",
     "start_time": "2022-06-14T13:30:10.558121Z"
    }
   },
   "outputs": [],
   "source": [
    "#2022/6/14\n",
    "import numpy as np\n",
    "import matplotlib.pyplot as plt\n",
    "import copy        "
   ]
  },
  {
   "cell_type": "code",
   "execution_count": 40,
   "id": "61c6d4ab",
   "metadata": {
    "ExecuteTime": {
     "end_time": "2022-06-14T13:47:02.060129Z",
     "start_time": "2022-06-14T13:47:02.026256Z"
    }
   },
   "outputs": [],
   "source": [
    "# st Transform\n",
    "class Transformation():\n",
    "    \n",
    "    def __init__(self):\n",
    "        \n",
    "        self.color_dict={0:\"magenta\",1:\"dimgray\",2:\"cyan\"}\n",
    "        self.type_dict={0:\"Aluthge\",1:\"Duggal\",2:\"Mean\"}\n",
    "        self.type_dict_2= {v: k for k, v in self.type_dict.items()}\n",
    "\n",
    "    def Epoch(self,T): # one iteration \n",
    "        \n",
    "        w,sigma,v_h=np.linalg.svd(T)    \n",
    "        self.length=len(T)\n",
    "        sigma_s_list=[]\n",
    "        sigma_t_list=[]\n",
    "        for i in range(0,self.length):\n",
    "            sigma_s_list.append(sigma[i]**self.s)\n",
    "            sigma_t_list.append(sigma[i]**self.t)\n",
    "        \n",
    "        sigma_s=np.diag(sigma_s_list)\n",
    "        sigma_t=np.diag(sigma_t_list)\n",
    "        sigma=np.diag(sigma)\n",
    "        \n",
    "        v=v_h.H\n",
    "        \n",
    "        sigma_pinv=np.linalg.pinv(sigma)\n",
    "        u=w@sigma@sigma_pinv@v_h\n",
    "        \n",
    "        T_st=v@sigma_s@v_h@w@sigma@sigma_pinv@sigma_t@v_h\n",
    "        \n",
    "        \n",
    "        return T_st #one epoch output\n",
    "             \n",
    "    def Transform(self,T,n=1,s=1/2,t=1/2): # n : iteration count \n",
    "        self.s=s\n",
    "        self.t=t\n",
    "        self.T=T\n",
    "        self.n=n\n",
    "        \n",
    "        before=copy.deepcopy(self.T)\n",
    "        \n",
    "        self.st=[T]\n",
    "            \n",
    "        for i in range(self.n):\n",
    "                \n",
    "            after=self.Epoch(before)\n",
    "            self.st.append(after)\n",
    "            before=after\n",
    "            \n",
    "    def Normal_calculator(self): \n",
    "        self.norm_info=[] #list of Frobenius norm of each transformation output matrix\n",
    "        self.normal_info=[] #list of Frobenius norm of each transformation output matrix\n",
    "        \n",
    "        for j in self.st:\n",
    "            norm=np.linalg.norm(j)\n",
    "            distance_matrix=np.abs(j@j.H-j.H@j)\n",
    "            distance=np.linalg.norm(distance_matrix)\n",
    "            self.normal_info.append(distance)\n",
    "            self.norm_info.append(norm)\n",
    "    \n",
    "    \n",
    "    def Normal_plot(self): # plot that dipicts Frobenius norm of T(T^*)-(T^*)T\n",
    "\n",
    "        self.total_fig, self.total_ax=plt.subplots(1,1)\n",
    "        \n",
    "        self.total_ax.plot(range(self.n+1),self.normal_info,color=\"b\",alpha=0.5,marker=\"o\",linestyle=\"dashed\")\n",
    "        self.total_ax.set_title(\"Normal Characteristic\")\n",
    "        \n",
    "        self.total_fig.set_size_inches((16,4))\n",
    "        self.total_ax.grid(axis='x', color='0.95',linestyle=\"--\")\n",
    "        \n",
    "    def Process(self,k):\n",
    "        \n",
    "        M=self.st[k-1]\n",
    "        print(\"Input\\n\",np.round(M,4),\"\\n\")\n",
    "        \n",
    "        w,sigma,v_h=np.linalg.svd(M)   \n",
    "        sigma_s_list=[]\n",
    "        sigma_t_list=[]\n",
    "        for i in range(0,self.length):\n",
    "            sigma_s_list.append(sigma[i]**self.s)\n",
    "            sigma_t_list.append(sigma[i]**self.t)\n",
    "        \n",
    "        sigma_s=np.diag(sigma_s_list)\n",
    "        sigma_t=np.diag(sigma_t_list)\n",
    "        sigma=np.diag(sigma)\n",
    "        \n",
    "        v=v_h.H\n",
    "                \n",
    "        print(\"W\\n\",np.round(w,4),\"\\n\")\n",
    "        print(\"Sigma\\n\",np.round(sigma,4),\"\\n\")\n",
    "        print(\"V_h\\n\",np.round(v_h,4),\"\\n\")\n",
    "        print(\"W\\Sigma V^*\\n\",np.round(w@sigma@v_h,4),\"\\n\")\n",
    "        print(\"WV^*\\n\",np.round(w@v_h,4),\"\\n\")\n",
    "        print(\"V\\n\",v,\"\\n\")\n",
    "        \n",
    "        sigma_pinv=np.linalg.pinv(sigma)\n",
    "        u=w@sigma@sigma_pinv@v_h\n",
    "        print(\"U=W\\Sigma\\Sigma_pinv V^*\\n\",np.round(u,4),\"\\n\")\n",
    "        \n",
    "        T_abs=v@sigma@v_h\n",
    "        \n",
    "        print(\"|T|\\n\",np.round(T_abs,4),\"\\n\")\n",
    "        \n",
    "        print(\"U|T|\\n\",np.round(u@T_abs,4),\"\\n\")\n",
    "\n",
    "        \n",
    "        T_st=v@sigma_s@v_h@w@sigma@sigma_pinv@sigma_t@v_h\n",
    "        \n",
    "        print(\"T_st(a)\\n\",np.round(T_st,4),\"\\n\")\n",
    "        \n",
    "        print(\"result from our class(b)\\n\",np.round(self.st[k],4))\n",
    "        print(\"If a!=b, Error.. ; If that happens, please email us\")\n",
    "        \n",
    "        \n",
    "        "
   ]
  },
  {
   "cell_type": "markdown",
   "id": "6e6d7611",
   "metadata": {},
   "source": [
    "### API\n",
    "#### 1. Transformation(T,n,s,t) : iterate n times for transformation.($T_{st}=|T|^sU|T|^t$).\n",
    "    \n",
    "    input:\n",
    "        T : matrix (numpy.Matrix)\n",
    "        n : number of iteration\n",
    "        s,t : Defalt 1/2 (Aluthge Transform)\n",
    "   The output is saved as a list in the following format.\n",
    "     \n",
    "   Transfomation.st<= store all matrix from Module.\n",
    "\n",
    "#### 2. Transfomation.Normal_calculator() : Norm and Normality Calculation Built-in Functions.\n",
    "\n",
    "   Transfomation.norm_info : A list in which the norm of the Transformation is stored.\n",
    "   \n",
    "   Transfomation.normal_info : A list in which normal characteristic - $|T^{*}T-TT^{*}| - $ is stored.\n",
    "   \n",
    "#### 3. Transformation.Process(k,Type) : You can check the calculation process of a specific part.\n",
    "    \n",
    "    input:\n",
    "        k : purpose number of repetitions (1<=k<=n)\n",
    "      \n",
    "   Lists information from the implementation.\n",
    "\n",
    "#### 4. Transformation.Plot() : plotting of normal characteristic.\n",
    "   \n",
    "   axis X : number of iteration(n)\n",
    "   \n",
    "   axis Y : normal characteristic for transformation.\n",
    "\n",
    "    \n",
    "\n",
    "\n",
    "*****\n",
    "see example below."
   ]
  },
  {
   "cell_type": "markdown",
   "id": "16cd584b",
   "metadata": {},
   "source": [
    "### Example "
   ]
  },
  {
   "cell_type": "code",
   "execution_count": 41,
   "id": "53dc6f72",
   "metadata": {
    "ExecuteTime": {
     "end_time": "2022-06-14T13:47:05.655195Z",
     "start_time": "2022-06-14T13:47:05.518302Z"
    },
    "scrolled": true
   },
   "outputs": [
    {
     "data": {
      "image/png": "[encoded data removed]",
      "text/plain": [
       "<Figure size 1152x288 with 1 Axes>"
      ]
     },
     "metadata": {
      "needs_background": "light"
     },
     "output_type": "display_data"
    }
   ],
   "source": [
    "#ex1 \n",
    "#invertible matrix\n",
    "T = np.matrix([[0,0,1],[1,1,0],[1,-1,0]])\n",
    "\n",
    "Ex_1=Transformation() \n",
    "\n",
    "Ex_1.Transform(T,n=100,s=1/2,t=0.4) # 행렬, 반복횟수, s,t\n",
    "\n",
    "Ex_1.Normal_calculator() \n",
    "\n",
    "Ex_1.Normal_plot() "
   ]
  },
  {
   "cell_type": "code",
   "execution_count": 43,
   "id": "b366acda",
   "metadata": {
    "ExecuteTime": {
     "end_time": "2022-06-14T13:47:13.709036Z",
     "start_time": "2022-06-14T13:47:13.694150Z"
    },
    "scrolled": true
   },
   "outputs": [
    {
     "name": "stdout",
     "output_type": "stream",
     "text": [
      "Input\n",
      " [[ 0.0088 -0.0067  1.0863]\n",
      " [ 0.7707  0.7896 -0.0028]\n",
      " [ 0.764  -0.7799  0.012 ]] \n",
      "\n",
      "W\n",
      " [[ 0.27    0.6833 -0.6784]\n",
      " [-0.7636  0.5811  0.2814]\n",
      " [ 0.5865  0.442   0.6787]] \n",
      "\n",
      "Sigma\n",
      " [[1.1129 0.     0.    ]\n",
      " [0.     1.0932 0.    ]\n",
      " [0.     0.     1.0751]] \n",
      "\n",
      "V_h\n",
      " [[-0.124  -0.9543  0.2718]\n",
      " [ 0.7241  0.1002  0.6824]\n",
      " [ 0.6784 -0.2814 -0.6786]] \n",
      "\n",
      "W\\Sigma V^*\n",
      " [[ 0.0088 -0.0067  1.0863]\n",
      " [ 0.7707  0.7896 -0.0028]\n",
      " [ 0.764  -0.7799  0.012 ]] \n",
      "\n",
      "WV^*\n",
      " [[ 1.100e-03  1.700e-03  1.000e+00]\n",
      " [ 7.064e-01  7.078e-01 -2.000e-03]\n",
      " [ 7.078e-01 -7.064e-01  5.000e-04]] \n",
      "\n",
      "V\n",
      " [[-0.12403488  0.72411781  0.67843109]\n",
      " [-0.95433432  0.10020753 -0.28143285]\n",
      " [ 0.27177444  0.68235757 -0.67862125]] \n",
      "\n",
      "U=W\\Sigma\\Sigma_pinv V^*\n",
      " [[ 1.100e-03  1.700e-03  1.000e+00]\n",
      " [ 7.064e-01  7.078e-01 -2.000e-03]\n",
      " [ 7.078e-01 -7.064e-01  5.000e-04]] \n",
      "\n",
      "|T|\n",
      " [[ 1.0852  0.0058  0.0076]\n",
      " [ 0.0058  1.1098 -0.0086]\n",
      " [ 0.0076 -0.0086  1.0863]] \n",
      "\n",
      "U|T|\n",
      " [[ 0.0088 -0.0067  1.0863]\n",
      " [ 0.7707  0.7896 -0.0028]\n",
      " [ 0.764  -0.7799  0.012 ]] \n",
      "\n",
      "T_st(a)\n",
      " [[ 8.9000e-03 -2.2000e-03  1.0768e+00]\n",
      " [ 7.6760e-01  7.8200e-01  4.0000e-04]\n",
      " [ 7.5760e-01 -7.6900e-01  8.9000e-03]] \n",
      "\n",
      "result from our class(b)\n",
      " [[ 8.9000e-03 -2.2000e-03  1.0768e+00]\n",
      " [ 7.6760e-01  7.8200e-01  4.0000e-04]\n",
      " [ 7.5760e-01 -7.6900e-01  8.9000e-03]]\n",
      "If a!=b, Error.. ; If that happens, please email us\n"
     ]
    }
   ],
   "source": [
    "#Ex_1.st\n",
    "\n",
    "#Ex_1.norm_info\n",
    "\n",
    "#Ex_1.normal_info\n",
    "\n",
    "Ex_1.Process(k=10)\n"
   ]
  },
  {
   "cell_type": "code",
   "execution_count": 30,
   "id": "9a440ee9",
   "metadata": {
    "scrolled": true
   },
   "outputs": [
    {
     "data": {
      "image/png": "[encoded data removed]",
      "text/plain": [
       "<Figure size 1152x288 with 1 Axes>"
      ]
     },
     "metadata": {
      "needs_background": "light"
     },
     "output_type": "display_data"
    }
   ],
   "source": [
    "#ex2 코드\n",
    "#non-invertible matrix\n",
    "T = np.matrix([[0,1,0,0],[0,0,2,0],[0,0,0,1],[0,0,0,0]])\n",
    "\n",
    "Ex_2=Transformation()\n",
    "\n",
    "Ex_2.Transform(T,n=10,s=1,t=1)\n",
    "\n",
    "Ex_2.Normal_calculator()\n",
    "\n",
    "Ex_2.Normal_plot()\n"
   ]
  },
  {
   "cell_type": "code",
   "execution_count": 6,
   "id": "49799a00",
   "metadata": {},
   "outputs": [],
   "source": [
    "#Ex_2.total_info\n",
    "\n",
    "#Ex_2.Aluthge_info\n",
    "\n",
    "#Ex_2.Duggal_info\n",
    "\n",
    "#Ex_2.Mean_info\n",
    "\n",
    "#Ex_2.norm_info\n",
    "\n",
    "#Ex_2.normal_info\n",
    "\n",
    "#Ex_2.Process(k=1, Type=\"Aluthge\")\n",
    "\n"
   ]
  },
  {
   "cell_type": "code",
   "execution_count": 7,
   "id": "5764fa0b",
   "metadata": {
    "scrolled": true
   },
   "outputs": [],
   "source": [
    "#ex3 코드\n",
    "#non-invertible matrix\n",
    "#T = np.matrix([[2,1,-4],[-4,-1,6],[-2,2,-2]])\n",
    "\n",
    "#Ex_3=Transformation()\n",
    "\n",
    "#Ex_3.Transform(T,10)\n",
    "\n",
    "#Ex_3.Normal_calculator()\n",
    "\n",
    "#Ex_3.Normal_plot()"
   ]
  },
  {
   "cell_type": "code",
   "execution_count": 8,
   "id": "82c61c66",
   "metadata": {},
   "outputs": [],
   "source": [
    "#Ex_3.total_info\n",
    "\n",
    "#Ex_3.Aluthge_info\n",
    "\n",
    "#Ex_3.Duggal_info\n",
    "\n",
    "#Ex_3.Mean_info\n",
    "\n",
    "#Ex_3.norm_info\n",
    "\n",
    "#Ex_3.normal_info\n",
    "\n",
    "#Ex_3.Process(k=1, Type=\"Aluthge\")\n",
    "\n"
   ]
  },
  {
   "cell_type": "code",
   "execution_count": 9,
   "id": "6bd609ab",
   "metadata": {},
   "outputs": [],
   "source": [
    "#ex4 코드\n",
    "#non-invertible matrix\n",
    "\n",
    "#T = np.matrix([[-5,0,2],[1,-2,3],[6,-2,1]])\n",
    "\n",
    "#Ex_4=Transformation()\n",
    "\n",
    "#Ex_4.Transform(T,10)\n",
    "\n",
    "#Ex_4.Normal_calculator()\n",
    "\n",
    "#Ex_4.Normal_plot()\n"
   ]
  },
  {
   "cell_type": "code",
   "execution_count": 10,
   "id": "d7c053f9",
   "metadata": {},
   "outputs": [],
   "source": [
    "#Ex_4.total_info\n",
    "\n",
    "#Ex_4.Aluthge_info\n",
    "\n",
    "#Ex_4.Duggal_info\n",
    "\n",
    "#Ex_4.Mean_info\n",
    "\n",
    "#Ex_4.norm_info\n",
    "\n",
    "#Ex_4.normal_info\n",
    "\n",
    "#Ex_4.Process(k=1, Type=\"Aluthge\")\n",
    "\n"
   ]
  },
  {
   "cell_type": "code",
   "execution_count": 11,
   "id": "d73ef4d9",
   "metadata": {
    "scrolled": true
   },
   "outputs": [],
   "source": [
    "#ex5 코드\n",
    "#non-invertible matrix\n",
    "#T = np.matrix([[0,2,-1],[3,-2,1],[3,2,-1]])\n",
    "\n",
    "#Ex_5=Transformation()\n",
    "\n",
    "#Ex_5.Transform(T,10)\n",
    "\n",
    "#Ex_5.Normal_calculator()\n",
    "\n",
    "#Ex_5.Normal_plot()"
   ]
  },
  {
   "cell_type": "code",
   "execution_count": 12,
   "id": "70cbcb50",
   "metadata": {},
   "outputs": [],
   "source": [
    "#Ex_5.total_info\n",
    "\n",
    "#Ex_5.Aluthge_info\n",
    "\n",
    "#Ex_5.Duggal_info\n",
    "\n",
    "#Ex_5.Mean_info\n",
    "\n",
    "#Ex_5.norm_info\n",
    "\n",
    "#Ex_5.normal_info\n",
    "\n",
    "#Ex_5.Process(k=1, Type=\"Aluthge\")\n",
    "\n"
   ]
  },
  {
   "cell_type": "code",
   "execution_count": 13,
   "id": "5313a068",
   "metadata": {
    "scrolled": true
   },
   "outputs": [],
   "source": [
    "#ex6 코드\n",
    "#normal,invertable matrix\n",
    "#T = np.matrix([[1j,-2-3j],[2-3j,0]])\n",
    "\n",
    "#Ex_6=Transformation()\n",
    "\n",
    "#Ex_6.Transform(T,10)\n",
    "\n",
    "#Ex_6.Normal_calculator()\n",
    "\n",
    "#Ex_6.Normal_plot()\n",
    "\n",
    "#scale : 1e-14"
   ]
  },
  {
   "cell_type": "code",
   "execution_count": 14,
   "id": "85f8e230",
   "metadata": {},
   "outputs": [],
   "source": [
    "#Ex_6.total_info\n",
    "\n",
    "#Ex_6.Aluthge_info\n",
    "\n",
    "#Ex_6.Duggal_info\n",
    "\n",
    "#Ex_6.Mean_info\n",
    "\n",
    "#Ex_6.norm_info\n",
    "\n",
    "#Ex_6.normal_info\n",
    "\n",
    "#Ex_6.Process(k=1, Type=\"Aluthge\")\n",
    "\n"
   ]
  },
  {
   "cell_type": "code",
   "execution_count": 15,
   "id": "6183d32a",
   "metadata": {},
   "outputs": [],
   "source": [
    "#ex7 코드\n",
    "#non-invertable matrix\n",
    "#T = np.matrix([[1,2,0],[3,-1,2],[-2,3,-2]])\n",
    "\n",
    "#Ex_7=Transformation()\n",
    "\n",
    "#Ex_7.Transform(T,10,check_u=1)\n",
    "\n",
    "#Ex_7.Normal_calculator()\n",
    "\n",
    "#Ex_7.Normal_plot()\n"
   ]
  },
  {
   "cell_type": "code",
   "execution_count": 16,
   "id": "dc1f3277",
   "metadata": {},
   "outputs": [],
   "source": [
    "#Ex_7.total_info\n",
    "\n",
    "#Ex_7.Aluthge_info\n",
    "\n",
    "#Ex_7.Duggal_info\n",
    "\n",
    "#Ex_7.Mean_info\n",
    "\n",
    "#Ex_7.norm_info\n",
    "\n",
    "#Ex_7.normal_info\n",
    "\n",
    "#Ex_7.Process(k=1, Type=\"Aluthge\")\n",
    "\n"
   ]
  }
 ],
 "metadata": {
  "kernelspec": {
   "display_name": "Python 3 (ipykernel)",
   "language": "python",
   "name": "python3"
  },
  "language_info": {
   "codemirror_mode": {
    "name": "ipython",
    "version": 3
   },
   "file_extension": ".py",
   "mimetype": "text/x-python",
   "name": "python",
   "nbconvert_exporter": "python",
   "pygments_lexer": "ipython3",
   "version": "3.9.7"
  },
  "varInspector": {
   "cols": {
    "lenName": 16,
    "lenType": 16,
    "lenVar": 40
   },
   "kernels_config": {
    "python": {
     "delete_cmd_postfix": "",
     "delete_cmd_prefix": "del ",
     "library": "var_list.py",
     "varRefreshCmd": "print(var_dic_list())"
    },
    "r": {
     "delete_cmd_postfix": ") ",
     "delete_cmd_prefix": "rm(",
     "library": "var_list.r",
     "varRefreshCmd": "cat(var_dic_list()) "
    }
   },
   "types_to_exclude": [
    "module",
    "function",
    "builtin_function_or_method",
    "instance",
    "_Feature"
   ],
   "window_display": false
  }
 },
 "nbformat": 4,
 "nbformat_minor": 5
}
